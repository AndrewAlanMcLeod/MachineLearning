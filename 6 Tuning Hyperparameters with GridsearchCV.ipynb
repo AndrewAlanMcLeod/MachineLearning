{
 "cells": [
  {
   "cell_type": "markdown",
   "metadata": {},
   "source": [
    "## Pipeline: Tune hyperparameters\n",
    "\n",
    "Using the Titanic dataset from [this](https://www.kaggle.com/c/titanic/overview) Kaggle competition.\n",
    "\n",
    "In this section, we will tune the hyperparameters for the basic model we fit in the last section."
   ]
  },
  {
   "cell_type": "markdown",
   "metadata": {},
   "source": [
    "### Read in data\n",
    "\n",
    "![Tune Hyperparameters](../../img/tune_hyperparameters.png)"
   ]
  },
  {
   "cell_type": "code",
   "execution_count": 10,
   "metadata": {},
   "outputs": [],
   "source": [
    "import pandas as pd\n",
    "from sklearn.ensemble import RandomForestClassifier\n",
    "from sklearn.model_selection import GridSearchCV\n",
    "#LETS RUN A GRIDSEARCHCV TO FIND THE OPTIMAL PARAMETER SETTINGS FOR OUR MODEL\n",
    "#GRIDSEARCHCV IS SIMPLY A WRAPPER AROUND RF WHICH ALLOWS US TO USE IT WITHIN CROSS-VALIDATION\n",
    "tr_features = pd.read_csv('/Users/AndrewMcLeod_1/Desktop/Ex_Files_Applied_Machine_Learning/Exercise Files/train_features.csv')\n",
    "tr_labels = pd.read_csv('/Users/AndrewMcLeod_1/Desktop/Ex_Files_Applied_Machine_Learning/Exercise Files/train_labels.csv', header=None)\n",
    "tr_labels.drop(index=tr_labels.index[1],axis=0,inplace=True)"
   ]
  },
  {
   "cell_type": "markdown",
   "metadata": {},
   "source": [
    "### Hyperparameter tuning\n",
    "\n",
    "![Hyperparameters](../../img/hyperparameters.png)"
   ]
  },
  {
   "cell_type": "code",
   "execution_count": 11,
   "metadata": {},
   "outputs": [],
   "source": [
    "#OUR FUNCTION HERE PRINTS OUT THE AVERAGE ACCURACY SCORE ACCROSS OUR FIVE FOLDS AND THE STD OF THE ACCURACY SCORE FOR EVERY HYPERPARAMETER COMBO\n",
    "#THIS WILL GIVES US ALL THE NEEDED INFO TO CHOOSE OPTIMAL HYPERPARAMETER SETTINGS\n",
    "def print_results(results):\n",
    "    print('BEST PARAMS: {}\\n'.format(results.best_params_))\n",
    "\n",
    "    means = results.cv_results_['mean_test_score']\n",
    "    stds = results.cv_results_['std_test_score']\n",
    "    for mean, std, params in zip(means, stds, results.cv_results_['params']):\n",
    "        print('{} (+/-{}) for {}'.format(round(mean, 3), round(std * 2, 3), params))"
   ]
  },
  {
   "cell_type": "code",
   "execution_count": 12,
   "metadata": {},
   "outputs": [
    {
     "name": "stderr",
     "output_type": "stream",
     "text": [
      "/opt/anaconda3/lib/python3.8/site-packages/sklearn/model_selection/_split.py:666: UserWarning: The least populated class in y has only 1 members, which is less than n_splits=5.\n",
      "  warnings.warn((\"The least populated class in y has only %d\"\n"
     ]
    },
    {
     "name": "stdout",
     "output_type": "stream",
     "text": [
      "BEST PARAMS: {'max_depth': 10, 'n_estimators': 50}\n",
      "\n",
      "0.764 (+/-0.118) for {'max_depth': 2, 'n_estimators': 5}\n",
      "0.811 (+/-0.085) for {'max_depth': 2, 'n_estimators': 50}\n",
      "0.802 (+/-0.106) for {'max_depth': 2, 'n_estimators': 100}\n",
      "0.82 (+/-0.037) for {'max_depth': 10, 'n_estimators': 5}\n",
      "0.824 (+/-0.058) for {'max_depth': 10, 'n_estimators': 50}\n",
      "0.818 (+/-0.063) for {'max_depth': 10, 'n_estimators': 100}\n",
      "0.792 (+/-0.053) for {'max_depth': 20, 'n_estimators': 5}\n",
      "0.805 (+/-0.021) for {'max_depth': 20, 'n_estimators': 50}\n",
      "0.811 (+/-0.022) for {'max_depth': 20, 'n_estimators': 100}\n",
      "0.8 (+/-0.009) for {'max_depth': None, 'n_estimators': 5}\n",
      "0.809 (+/-0.054) for {'max_depth': None, 'n_estimators': 50}\n",
      "0.809 (+/-0.025) for {'max_depth': None, 'n_estimators': 100}\n"
     ]
    }
   ],
   "source": [
    "#NOW WE CAN DO OUR GRIDSEARCHCV\n",
    "#ESSENTIALLY A RANDOM FOREST IS A COLLECTION OF DECISION TREES\n",
    "rf = RandomForestClassifier()\n",
    "#THERE ARE TWO HP'S THAT WE WANT TO TUNE, NUMBER OF ESTIMATORS (IE: INDIVIDUAL DECISION TREES),\n",
    "#AND MAX DEPTH (HOW DEEP THE DECISION TREES GO)\n",
    "parameters = {\n",
    "    'n_estimators': [5, 50, 100],\n",
    "    'max_depth': [2, 10, 20, None]\n",
    "}\n",
    "#Now we call GreidsearchCV to run every possible combonation of parameter\n",
    "#WITH 12 PARAMETER COMBINATIONS AND 5 FOLDS OF CV THIS IS CREATING 60 MODELS!\n",
    "cv = GridSearchCV(rf, parameters, cv=5)\n",
    "cv.fit(tr_features, tr_labels.values.ravel())\n",
    "\n",
    "print_results(cv)"
   ]
  },
  {
   "cell_type": "code",
   "execution_count": null,
   "metadata": {},
   "outputs": [],
   "source": [
    "#THUS OUR BEST FIT MODEL HAS A MAX DEPTH OF 10 AND NUMBER OF TREES AT 100\n",
    "#OBSERVE THE ACCURACY IS LITTLE BETTER THAN OUR DEFAULT BEST RUN IN THE LAST EXCERCISE WITH NUMBER OF PARAMETERS AT TEN AND DEPTH AT NONE!"
   ]
  }
 ],
 "metadata": {
  "kernelspec": {
   "display_name": "Python 3",
   "language": "python",
   "name": "python3"
  },
  "language_info": {
   "codemirror_mode": {
    "name": "ipython",
    "version": 3
   },
   "file_extension": ".py",
   "mimetype": "text/x-python",
   "name": "python",
   "nbconvert_exporter": "python",
   "pygments_lexer": "ipython3",
   "version": "3.8.8"
  }
 },
 "nbformat": 4,
 "nbformat_minor": 2
}
